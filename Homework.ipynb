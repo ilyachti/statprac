{
  "cells": [
    {
      "cell_type": "markdown",
      "metadata": {
        "id": "xw8BD8v2oBGj"
      },
      "source": [
        "# Homework"
      ]
    },
    {
      "cell_type": "markdown",
      "metadata": {
        "id": "sSos7q2_oBGj"
      },
      "source": [
        "## Problem 1"
      ]
    },
    {
      "cell_type": "markdown",
      "metadata": {
        "id": "NiX8ePp0oBGk"
      },
      "source": [
        "Make a tuple containing natural numbers, the square of which is a multiple of 3, 4, but not a multiple of 8 and not exceeding 12345."
      ]
    },
    {
      "cell_type": "code",
      "execution_count": null,
      "metadata": {
        "colab": {
          "base_uri": "https://localhost:8080/"
        },
        "id": "XmPHEnS9oBGk",
        "outputId": "acc1f5c8-9c2d-4a6f-e31e-cbd762fc0d0b"
      },
      "outputs": [
        {
          "name": "stdout",
          "output_type": "stream",
          "text": [
            "(6, 18, 30, 42, 54, 66, 78, 90, 102)\n"
          ]
        }
      ],
      "source": [
        "t = (range(1, int((12345**0.5))+1))\n",
        "p = tuple(x for x in t if x**2 % 3 == 0 and x**2 % 4 == 0 and x**2 % 8 != 0 and x**2 <= 12345)\n",
        "print(p)"
      ]
    },
    {
      "cell_type": "markdown",
      "metadata": {
        "id": "OZBeUyxcoBGk"
      },
      "source": [
        "## Problem 2"
      ]
    },
    {
      "cell_type": "markdown",
      "metadata": {
        "id": "zIfvg22noBGk"
      },
      "source": [
        "\n",
        "Write a function that takes a two-dimensional array and a string as input and returns an array rotated 90 degrees counterclockwise if the string 'left' was passed, and clockwise if the string 'right' was passed.\n",
        "\n",
        "Example for input: $\\begin{bmatrix} 1 & 2 & 3 \\\\ 4 & 5 & 6 \\\\ 7 & 8 & 9 \\end{bmatrix}$.\\\n",
        "If the string 'left' is passed, the function should return $\\begin{bmatrix} 3 & 6 & 9 \\\\ 2 & 5 & 8 \\\\ 1 & 4 & 7 \\end{bmatrix}$, and if the string 'right' is passed, the function should return $\\begin{bmatrix} 7 & 4 & 1 \\\\ 8 & 5 & 2 \\\\ 9 & 6 & 3 \\end{bmatrix}$."
      ]
    },
    {
      "cell_type": "markdown",
      "metadata": {
        "id": "_DcU0krzKiYy"
      },
      "source": [
        "Поворот на 90* влево - транспонирование и отражение относительно горизонтали,\n",
        "влево - транспонирование и отражение относительно вертикали"
      ]
    },
    {
      "cell_type": "code",
      "execution_count": null,
      "metadata": {
        "colab": {
          "base_uri": "https://localhost:8080/"
        },
        "id": "HNvy_cRjoBGk",
        "outputId": "291691a6-3d63-4959-cd6c-2b9b0adbc0a0"
      },
      "outputs": [
        {
          "output_type": "stream",
          "name": "stdout",
          "text": [
            "[[4, 8, 12, 16], [3, 7, 11, 15], [2, 6, 10, 14], [1, 5, 9, 13]]\n"
          ]
        }
      ],
      "source": [
        "\n",
        "def rotate(arr, str):\n",
        "  n = len(arr)\n",
        "  arr = transpon(arr, n)\n",
        "  if str == 'left':\n",
        "    arr = horreflect(arr, n)\n",
        "  if str == 'right':\n",
        "    arr = vertreflect(arr, n)\n",
        "  return arr\n",
        "\n",
        "\n",
        "def transpon(arr, size):\n",
        "  res = []\n",
        "  for j in range(size):\n",
        "      tmp = []\n",
        "      for i in range(size):\n",
        "            tmp.append(arr[i][j])\n",
        "      res.append(tmp)\n",
        "  return res\n",
        "def vertreflect(arr, size):\n",
        "  res = []\n",
        "  for i in range(size):\n",
        "    tmp = []\n",
        "    for j in range(size):\n",
        "      tmp.append(arr[i][size-1 - j])\n",
        "    res.append(tmp)\n",
        "  return res\n",
        "\n",
        "def horreflect(arr, size):\n",
        "  res = []\n",
        "  for i in range(size):\n",
        "    tmp = []\n",
        "    for j in range(size):\n",
        "      tmp.append(arr[size - 1 - i][j])\n",
        "    res.append(tmp)\n",
        "  return res\n",
        "\n",
        "matrix = [[1, 2, 3, 4], [5, 6, 7, 8], [9, 10, 11, 12], [13, 14, 15, 16]]\n",
        "res = rotate(matrix, 'left')\n",
        "print(res)"
      ]
    },
    {
      "cell_type": "markdown",
      "metadata": {
        "id": "_dY-PFlCoBGk"
      },
      "source": [
        "## Problem 3"
      ]
    },
    {
      "cell_type": "markdown",
      "metadata": {
        "id": "3CaIwcm0oBGk"
      },
      "source": [
        "Write a function that takes a string as input and returns a dictionary containing the number of occurrences of each character in the string.\n",
        "\n",
        "Example for the string 'hello, world!': {'h': 1, 'e': 1, 'l': 3, 'o': 2, ',': 1, ' ': 1, 'w': 1, 'r': 1, 'd': 1, '!': 1}."
      ]
    },
    {
      "cell_type": "code",
      "execution_count": null,
      "metadata": {
        "colab": {
          "base_uri": "https://localhost:8080/"
        },
        "id": "rlSbHusZoBGk",
        "outputId": "e7242129-b2c1-4edf-d1d5-5d4c5d7190b4"
      },
      "outputs": [
        {
          "output_type": "stream",
          "name": "stdout",
          "text": [
            "{'!': 2, 'h': 1, 'e': 1, 'l': 3, 'o': 2, ',': 1, ' ': 1, 'w': 1, 'r': 1, 'd': 1}\n"
          ]
        }
      ],
      "source": [
        "def counter(string):\n",
        "  d = {}\n",
        "  for symbol in string:\n",
        "    count = 0\n",
        "    for j in string:\n",
        "      if symbol == j:\n",
        "        count += 1\n",
        "        d[symbol] = count\n",
        "  return d\n",
        "\n",
        "string = '!hello, world!'\n",
        "res = counter(string)\n",
        "print(res)\n"
      ]
    },
    {
      "cell_type": "markdown",
      "metadata": {
        "id": "KBGJ7PeboBGk"
      },
      "source": [
        "## Problem 4"
      ]
    },
    {
      "cell_type": "markdown",
      "metadata": {
        "id": "XS4Seqa9oBGk"
      },
      "source": [
        "### Implementing a Library Management System\n",
        "\n",
        "#### Description\n",
        "\n",
        "You are required to design and implement a system for managing books and users in a library. The system should allow for the management of books (adding, deleting, searching by various criteria) and users (registration, deletion, searching), as well as tracking the history of interactions between them (issuing and returning books).\n",
        "\n",
        "#### Tasks\n",
        "\n",
        "1. **`Book` Class**:\n",
        "   - Attributes: title, author, year of publication, ISBN, number of copies.\n",
        "   - Methods: constructor, methods to get information about the book, method to change the number of copies (when issuing and returning books).\n",
        "\n",
        "2. **`User` Class**:\n",
        "   - Attributes: user name, library card number, list of borrowed books.\n",
        "   - Methods: constructor, methods for user registration, methods for adding and removing books from the borrowed list.\n",
        "\n",
        "3. **`Library` Class**:\n",
        "   - Attributes: list of books, list of users, transaction history (who, when, which book was borrowed and returned).\n",
        "   - Methods: constructor, methods for adding and deleting books and users, methods for issuing and returning books, searching for books and users by various criteria, method to display the transaction history.\n",
        "\n",
        "#### Assignment\n",
        "\n",
        "1. Implement the `Book`, `User`, and `Library` classes with the specified attributes and methods.\n",
        "2. Create several books and users, and add them to the library system.\n",
        "3. Implement scenarios for issuing books to users and their return.\n",
        "4. Display the transaction history to show how books were issued and returned.\n"
      ]
    },
    {
      "cell_type": "code",
      "execution_count": null,
      "metadata": {
        "id": "IbqwtWWsoBGl",
        "colab": {
          "base_uri": "https://localhost:8080/"
        },
        "outputId": "43832e6b-3d60-436a-9928-1ebb273e575a"
      },
      "outputs": [
        {
          "output_type": "stream",
          "name": "stdout",
          "text": [
            "Library created\n",
            "Book Доктор Живаго created\n",
            "Book На западном фронте без перемен created\n",
            "Book Компромисс created\n",
            "User Александр Шляпик created\n",
            "User Илья Романовский created\n",
            "User Александр Ойстачер created\n",
            "\n",
            "\n",
            "the book successfully issued\n",
            "the book successfully issued\n",
            "the book successfully issued\n",
            "the book successfully returned\n",
            "the book successfully returned\n",
            "the book successfully issued\n",
            "\n",
            "\n",
            "transaction history:\n",
            "the user 'Александр Шляпик' issued the book 'Компромисс' on 2025-02-16 20:35:18.285486\n",
            "the user 'Илья Романовский' issued the book 'Доктор Живаго' on 2025-02-16 20:35:18.285612\n",
            "the user 'Александр Ойстачер' issued the book 'На западном фронте без перемен' on 2025-02-16 20:35:18.285720\n",
            "the user 'Александр Шляпик' returned the book 'Компромисс' on 2025-02-16 20:35:18.285815\n",
            "the user 'Илья Романовский' returned the book 'Доктор Живаго' on 2025-02-16 20:35:18.285902\n",
            "the user 'Илья Романовский' issued the book 'Компромисс' on 2025-02-16 20:35:18.285993\n",
            "\n",
            "\n",
            "по запросу 'Компромисс' найдены:\n",
            "Title: Компромисс, Author: Сергей Довлатов, Year: 1981, ISBN: 978-5-389-02277-5, Copies: 6\n",
            "по запросу 'иль' найдены:\n",
            "Name: Илья Романовский, Card Number: 901134, Borrowed books: Компромисс\n",
            "по запросу '100301' найдены:\n",
            "Name: Александр Шляпик, Card Number: 100301, Borrowed books: \n",
            "по запросу 'на западном' найдены:\n",
            "Name: Александр Ойстачер, Card Number: 884102, Borrowed books: На западном фронте без перемен\n"
          ]
        }
      ],
      "source": [
        "import datetime\n",
        "class Book:\n",
        "  def __init__(self, title, author, year, isbn, number_of_copies):\n",
        "    self.title = title\n",
        "    self.author = author\n",
        "    self.year = year\n",
        "    self.isbn = isbn\n",
        "    self.number_of_copies = number_of_copies\n",
        "    print(f\"Book {title} created\")\n",
        "  def display_info(self):\n",
        "    return f\"Title: {self.title}, Author: {self.author}, Year: {self.year}, ISBN: {self.isbn}, Copies: {self.number_of_copies}\"\n",
        "  def change_copies(self, str):\n",
        "    if str == 'issue':\n",
        "      self.number_of_copies += 1\n",
        "    if str == 'return':\n",
        "      self.number_of_copies -= 1\n",
        "\n",
        "class User:\n",
        "  def __init__(self, name, card_number):\n",
        "    self.name = name\n",
        "    self.card_number = card_number\n",
        "    self.borrowed_books = []\n",
        "    print(f\"User {name} created\")\n",
        "  def register(self):\n",
        "    return f\"User {self.name} registered, card number: {self.card_number}\"\n",
        "  def add_book(self, book):\n",
        "    self.borrowed_books.append(book)\n",
        "  def remove_book(self, book):\n",
        "    if book not in self.borrowed_books:\n",
        "      print('error')\n",
        "    else: self.borrowed_books.remove(book)\n",
        "  def display_info(self):\n",
        "    borrowed_titles = [book.title for book in self.borrowed_books]\n",
        "    titles_str = ', '.join(borrowed_titles)\n",
        "    return f\"Name: {self.name}, Card Number: {self.card_number}, Borrowed books: \"+titles_str\n",
        "\n",
        "class Library:\n",
        "  def __init__(self):\n",
        "    self.list_of_books = []\n",
        "    self.list_of_users = []\n",
        "    self.transaction_history = []\n",
        "    print(\"Library created\")\n",
        "  def add_book_library(self, book):\n",
        "    self.list_of_books.append(book)\n",
        "  def remove_book_library(self, book):\n",
        "    if book not in self.list_of_books:\n",
        "      print('error')\n",
        "    else: self.list_of_books.remove(book)\n",
        "  def add_user(self, user):\n",
        "    self.list_of_users.append(user)\n",
        "  def remove_user(self, user):\n",
        "    if user not in self.list_of_users:\n",
        "      print('error')\n",
        "    else: self.list_of_users.remove(user)\n",
        "\n",
        "  def issue_book(self, user, book):\n",
        "    if book.number_of_copies > 0 and user in self.list_of_users:\n",
        "      user.add_book(book)\n",
        "      book.change_copies('issue')\n",
        "      transaction = f\"the user '{user.name}' issued the book '{book.title}' on {datetime.datetime.now()}\"\n",
        "      self.transaction_history.append(transaction)\n",
        "      #print(f\"the user '{user.name}' issued the book '{book.title}' on {datetime.datetime.now()}\")\n",
        "      print('the book successfully issued')\n",
        "    else:\n",
        "      print(f\"error: the book {book.title} is not available now or the user {user.name} was not found\")\n",
        "\n",
        "  def return_book(self, user, book):\n",
        "    if book in user.borrowed_books and user in self.list_of_users:\n",
        "      user.remove_book(book)\n",
        "      book.change_copies('return')\n",
        "      transaction = f\"the user '{user.name}' returned the book '{book.title}' on {datetime.datetime.now()}\"\n",
        "      self.transaction_history.append(transaction)\n",
        "      #print(f\"the user '{user.name}' returned the book '{book.title}' on {datetime.datetime.now()}\")\n",
        "      print('the book successfully returned')\n",
        "    else:\n",
        "      print(f\"error: the book {book.title} was not borrowed or the user {user.name} was not found\")\n",
        "\n",
        "  def display_transaction_history(self):\n",
        "    print('transaction history:')\n",
        "    for transaction in self.transaction_history:\n",
        "      print(transaction)\n",
        "  def search_by_title(self, title):\n",
        "    result = [book for book in self.list_of_books if title.lower() in book.title.lower()]\n",
        "    print(f\"по запросу '{title}' найдены:\")\n",
        "    for r in result:\n",
        "      print(r.display_info())\n",
        "  def search_by_author(self, author):\n",
        "    result = [book for book in self.list_of_books if author.lower() in book.author.lower()]\n",
        "    print(f\"по запросу '{author}' найдены:\")\n",
        "    for r in result:\n",
        "      print(r.display_info())\n",
        "  def search_by_name(self, name):\n",
        "    result = [user for user in self.list_of_users if name.lower() in user.name.lower()]\n",
        "    print(f\"по запросу '{name}' найдены:\")\n",
        "    for r in result:\n",
        "      print(r.display_info())\n",
        "  def search_by_borrowed_book(self, title):\n",
        "    result = [user for user in self.list_of_users for book in user.borrowed_books if title.lower() in book.title.lower()]\n",
        "    print(f\"по запросу '{title}' найдены:\")\n",
        "    for r in result:\n",
        "      print(r.display_info())\n",
        "  def search_by_card(self, card_number):\n",
        "    result = [user for user in self.list_of_users if card_number == user.card_number]\n",
        "    print(f\"по запросу '{card_number}' найдены:\")\n",
        "    for r in result:\n",
        "      print(r.display_info())\n",
        "\n",
        "\n",
        "  # Example usage\n",
        "\n",
        "library = Library()\n",
        "book1 = Book('Доктор Живаго', 'Борис Пастернак', 1955, '5-04-004105-5', 7)\n",
        "book2 = Book('На западном фронте без перемен', 'Эрих Мария Ремарк', 1928, '5-9697-0146-7', 10)\n",
        "book3 = Book('Компромисс', 'Сергей Довлатов', 1981, '978-5-389-02277-5', 5)\n",
        "user1 = User('Александр Шляпик', '100301')\n",
        "user2 = User('Илья Романовский', '901134')\n",
        "user3 = User('Александр Ойстачер', '884102')\n",
        "\n",
        "library.add_user(user1)\n",
        "library.add_user(user2)\n",
        "library.add_user(user3)\n",
        "library.add_book_library(book1)\n",
        "library.add_book_library(book2)\n",
        "library.add_book_library(book3)\n",
        "\n",
        "user1.register()\n",
        "user2.register()\n",
        "user3.register()\n",
        "print('\\n')\n",
        "\n",
        "library.issue_book(user1, book3)\n",
        "library.issue_book(user2, book1)\n",
        "library.issue_book(user3, book2)\n",
        "library.return_book(user1, book3)\n",
        "library.return_book(user2, book1)\n",
        "library.issue_book(user2, book3)\n",
        "print('\\n')\n",
        "\n",
        "library.display_transaction_history()\n",
        "print('\\n')\n",
        "\n",
        "library.search_by_title('Компромисс')\n",
        "library.search_by_name('иль')\n",
        "library.search_by_card('100301')\n",
        "library.search_by_borrowed_book('на западном')\n",
        "\n",
        "\n",
        "\n",
        "\n",
        "\n"
      ]
    },
    {
      "cell_type": "markdown",
      "metadata": {
        "id": "0c8zRbSIoBGl"
      },
      "source": [
        "## Problem 5*"
      ]
    },
    {
      "cell_type": "markdown",
      "metadata": {
        "id": "8ltdzRmOoBGl"
      },
      "source": [
        "Explain why list `b` changes after the execution of the following code:\n",
        "\n",
        "```python\n",
        "a = [1, 2, 3]\n",
        "b = a\n",
        "a[0] = 4\n",
        "print(b)\n",
        "```"
      ]
    },
    {
      "cell_type": "code",
      "source": [
        "a = [1, 2, 3]\n",
        "b = a\n",
        "a[0] = 4\n",
        "print(b)"
      ],
      "metadata": {
        "colab": {
          "base_uri": "https://localhost:8080/"
        },
        "id": "UABWUNdaeXKj",
        "outputId": "a3fd7ff3-72e6-4bed-93a6-633d3493476d"
      },
      "execution_count": null,
      "outputs": [
        {
          "output_type": "stream",
          "name": "stdout",
          "text": [
            "[4, 2, 3]\n"
          ]
        }
      ]
    },
    {
      "cell_type": "markdown",
      "metadata": {
        "id": "RxgnUfFPoBGl"
      },
      "source": [
        "> Write your answer in markdown cell after:"
      ]
    },
    {
      "cell_type": "markdown",
      "metadata": {
        "id": "Mb-amOX5oBGl"
      },
      "source": [
        "Запись b = a обозначает, что b теперь является новой ссылкой на наш массив, ссылкой на который является и a. Поэтому, используя две эти ссылки, мы обращаемся к одному и тому же списку, поэтому мы и получили измененный список."
      ]
    },
    {
      "cell_type": "markdown",
      "metadata": {
        "id": "TmXLkc_foBGl"
      },
      "source": [
        "## Problem 6*"
      ]
    },
    {
      "cell_type": "markdown",
      "metadata": {
        "id": "Gn0ibiVCoBGl"
      },
      "source": [
        "Let\n",
        "$$A = \\sum_{i=1}^{10000} \\frac{1}{i^2},\\quad B=\\sum_{i=10000}^{1} \\frac{1}{i^2}.$$\n",
        "Calculate the values of $A$ and $B$ and compare them. What do you observe? Explain why this happens. What is the best way to calculate the value of $\\sum\\limits_{i=1}^{10000} \\dfrac{1}{i^2}$?"
      ]
    },
    {
      "cell_type": "code",
      "execution_count": null,
      "metadata": {
        "id": "3q93uGqFoBGl",
        "colab": {
          "base_uri": "https://localhost:8080/"
        },
        "outputId": "88b45ea2-ee36-41bc-a90f-5f85f0c0564e"
      },
      "outputs": [
        {
          "output_type": "stream",
          "name": "stdout",
          "text": [
            "1.6448340718480652\n",
            "1.6448340718480596\n"
          ]
        }
      ],
      "source": [
        "res1 = 0\n",
        "for i in range(1, 10001):\n",
        "  res1 += 1/(i**2)\n",
        "print(res1)\n",
        "\n",
        "res2 = 0\n",
        "for i in range(10000, 0, -1):\n",
        "  res2 += 1/(i**2)\n",
        "print(res2)"
      ]
    },
    {
      "cell_type": "markdown",
      "source": [
        "Второй вариант точнее, потому что лучше начинать складывать с наименьших чисел, так так иначе будет накапливаться ошибка изза округления чисел с плавающей точкой: если вначале складывать большие числа, то маленькие разряды просто потеряются"
      ],
      "metadata": {
        "id": "iEQNDEQfjK-7"
      }
    }
  ],
  "metadata": {
    "colab": {
      "provenance": []
    },
    "kernelspec": {
      "display_name": "Python 3",
      "name": "python3"
    },
    "language_info": {
      "name": "python"
    }
  },
  "nbformat": 4,
  "nbformat_minor": 0
}